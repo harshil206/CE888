{
 "cells": [
  {
   "cell_type": "code",
   "execution_count": 1,
   "metadata": {},
   "outputs": [
    {
     "name": "stdout",
     "output_type": "stream",
     "text": [
      "acc = 0.9625091709464417\n",
      "pre = 0.9706295282159566\n",
      "recall = 0.9211377009457814\n",
      "f1 = 0.9439604860324547\n"
     ]
    }
   ],
   "source": [
    "# import necessary libraries\n",
    "from sklearn.metrics import accuracy_score, f1_score, precision_score, recall_score\n",
    "from sklearn.ensemble import RandomForestClassifier\n",
    "from sklearn.model_selection import train_test_split\n",
    "import pandas as pd\n",
    "\n",
    "# load the cleaned dataset\n",
    "df_lag = pd.read_csv(\"cleaned_dataset.csv\")\n",
    "\n",
    "# create a random forest Classifier with 100 estimators and maximum depth of 15\n",
    "clf = RandomForestClassifier(n_estimators=100,max_depth=15)\n",
    "\n",
    "# split the data into training and testing sets\n",
    "train, test, train_labels, test_labels = train_test_split(df_lag[['Acc_X', 'Acc_Y', 'Acc_Z', 'EDA_Level', 'Skin_Temperature', 'Heart_Rate']], df_lag['Stress_Level'], test_size=0.7, random_state=32)\n",
    "\n",
    "# train the model using the training data\n",
    "clf.fit(train, train_labels.values.ravel())\n",
    "\n",
    "# predict the labels of the test data\n",
    "y_pred = clf.predict(test)\n",
    "\n",
    "# compute the evaluation metrics\n",
    "f1score   = f1_score(test_labels, y_pred, average = 'macro')\n",
    "recall    = recall_score(test_labels, y_pred, average = 'macro')\n",
    "precision = precision_score(test_labels, y_pred, average = 'macro')\n",
    "accuracy  = accuracy_score(test_labels, y_pred)\n",
    "\n",
    "# print the evaluation metrics\n",
    "print('acc =', accuracy)\n",
    "print('pre =', precision)\n",
    "print('recall =', recall) \n",
    "print('f1 =', f1score)\n"
   ]
  }
 ],
 "metadata": {
  "kernelspec": {
   "display_name": "Python 3",
   "language": "python",
   "name": "python3"
  },
  "language_info": {
   "codemirror_mode": {
    "name": "ipython",
    "version": 3
   },
   "file_extension": ".py",
   "mimetype": "text/x-python",
   "name": "python",
   "nbconvert_exporter": "python",
   "pygments_lexer": "ipython3",
   "version": "3.11.0"
  },
  "orig_nbformat": 4,
  "vscode": {
   "interpreter": {
    "hash": "b5366fdf1b75ea46866cbb0dbf20c9c00a492271cd056179d726b8c91a378c13"
   }
  }
 },
 "nbformat": 4,
 "nbformat_minor": 2
}
